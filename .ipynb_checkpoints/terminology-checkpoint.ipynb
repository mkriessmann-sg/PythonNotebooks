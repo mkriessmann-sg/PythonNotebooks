{
 "cells": [
  {
   "cell_type": "markdown",
   "id": "da4b44eb-28fa-4fb2-9731-72e84b87b3b3",
   "metadata": {},
   "source": [
    "# 機械学習とAmazon SageMakerで使用になっている用語説明書"
   ]
  },
  {
   "cell_type": "markdown",
   "id": "84ddf6a1-248b-4306-b14d-7e9272ee2402",
   "metadata": {
    "tags": []
   },
   "source": [
    "## 機械学習基本"
   ]
  },
  {
   "cell_type": "markdown",
   "id": "19b497e3-722a-4f7f-ae76-273a44e6503c",
   "metadata": {},
   "source": [
    "機械学習に基本的によく使われている概念や用語が説明されています。"
   ]
  },
  {
   "cell_type": "markdown",
   "id": "31a46747-f1e7-4948-9931-c959e569a4a2",
   "metadata": {},
   "source": [
    "### 人工知能（英：artificial intelligence) \n",
    "[source](http://jmc.stanford.edu/artificial-intelligence/what-is-ai/index.html)\n",
    "\n",
    "Artificial intelligence is the science of making intelligent machines, especially intelligent computer programms. Intelligence in this context describes the ability to achieve goals in the world. While there is no strict definition, it usually involves the steps of learning, preception, reasoning,problem solving and language understanding.\n",
    "\n",
    "人工知能は知能を持っている機械やプログラムを制作する科学分野です。こちらの場合には「知能」は目標を達成できるという意味を込まれています。はっきりしていませんですが、よくある段階は学習、認識、論法、問題解決と言語理解が含まれています。"
   ]
  },
  {
   "cell_type": "markdown",
   "id": "44b3b6cc-6712-487e-bde6-d989131fb0c8",
   "metadata": {},
   "source": [
    "### 機械学習（英：Machine Learning)\n",
    "\n",
    "Machine learning is a subset of artificial intelligence that concerned with the development and study of statistical algorythms that can learn from data, generalize to to unseen data and perform indepent tasks. It usually involves algorythms that can process and analyze data to improve their performance over time through experience. \n",
    "\n",
    "\n",
    "\n"
   ]
  },
  {
   "cell_type": "markdown",
   "id": "fb1adb96-c40e-4806-aa6e-19e8d921d33b",
   "metadata": {},
   "source": [
    "### Classification\n",
    "\n",
    "A task in machine learning where the goal of the algorythm is to categorize input data into predefined classes or labels based on it's features. It falls under the portion of supervised learning. \n",
    "It is important to note that for most classifications, rather than the class being predicted 100%, the algorythm predicts a likeliness of the provided data representing the class in question. For multi class classifications there are multiple probablilities and the one with the highest probalibity wins out and becomes the prediction."
   ]
  },
  {
   "cell_type": "markdown",
   "id": "d2cec64e-c65e-4bae-8ad2-7edd24bbaaa0",
   "metadata": {},
   "source": [
    "### Regression\n",
    "\n",
    "A task in machine learning where the goal of the algorythm is to predict a continious numeric value based on input data. It falls under the portion of supervised learnig. "
   ]
  },
  {
   "cell_type": "markdown",
   "id": "e56dc19c-ef5a-47fa-bb6e-4b460154f249",
   "metadata": {},
   "source": [
    "### Features \n",
    "\n",
    "A feature describes an individual measurable property or a correlated number of properties of the data used to build a model. Features are input variables or attributes that the algorithm uses to make predictions or classifications. There are several types of features, such as continuous values, categorical labels, text or images. \n"
   ]
  },
  {
   "cell_type": "markdown",
   "id": "6921f4d5-a954-4a51-ad09-db69895504c6",
   "metadata": {},
   "source": [
    "### Training Data\n",
    "\n",
    "describes the data that is used for creating the model. "
   ]
  },
  {
   "cell_type": "markdown",
   "id": "c97e92f0-54a7-4c4c-bbc5-57639be3782b",
   "metadata": {},
   "source": [
    "### Validation/Testing Data\n",
    "\n",
    "describes the data that is used to evaluate the model to make sure that it performs to expectation."
   ]
  },
  {
   "cell_type": "markdown",
   "id": "bc0acbad-4b4d-467b-a4d9-92e22ec47545",
   "metadata": {},
   "source": [
    "### Bias\n",
    "\n",
    "Describes the inability of the machine learning method to completely model the realationship between input data and output, aka the modeling error."
   ]
  },
  {
   "cell_type": "markdown",
   "id": "acedfdef-a61b-4bbd-9e1a-2be1552fbb06",
   "metadata": {},
   "source": [
    "### Variance\n",
    "\n",
    "describes the average error when predicticting the for values. "
   ]
  },
  {
   "cell_type": "markdown",
   "id": "b7c11f45-ad4c-4dba-8a4a-1fc3f55de805",
   "metadata": {},
   "source": [
    "### Overfitting\n",
    "\n",
    "describes a model that models the testing set too well and therefore has trouble making predictions that refer to a more general case."
   ]
  },
  {
   "cell_type": "markdown",
   "id": "f517a210-ec52-4ee4-9c31-a3e7dc9ee5e9",
   "metadata": {},
   "source": [
    "### Regularization\n",
    "\n"
   ]
  },
  {
   "cell_type": "markdown",
   "id": "472a9904-bb02-45dd-ac1c-8cbfb056d50e",
   "metadata": {},
   "source": [
    "### Boosting\n"
   ]
  },
  {
   "cell_type": "markdown",
   "id": "b3957cba-70d7-44fd-8a0c-19d060b7d5f2",
   "metadata": {},
   "source": [
    "### Bagging\n"
   ]
  },
  {
   "cell_type": "markdown",
   "id": "b87e9665-feb5-4f22-9bc9-24bf4e2dd58a",
   "metadata": {},
   "source": [
    "### Bagging\n"
   ]
  },
  {
   "cell_type": "markdown",
   "id": "310f5d11-401f-4d6e-8144-c364ce912dc5",
   "metadata": {},
   "source": [
    "## AWSについて"
   ]
  },
  {
   "cell_type": "markdown",
   "id": "4db6d8b7-e9b6-433b-b408-5ec9c90f20ac",
   "metadata": {},
   "source": [
    "## SageMakerについて"
   ]
  },
  {
   "cell_type": "code",
   "execution_count": null,
   "id": "23e0ed9b-4d3c-4390-8bb5-699976f35900",
   "metadata": {},
   "outputs": [],
   "source": []
  }
 ],
 "metadata": {
  "kernelspec": {
   "display_name": "Python 3 (ipykernel)",
   "language": "python",
   "name": "python3"
  },
  "language_info": {
   "codemirror_mode": {
    "name": "ipython",
    "version": 3
   },
   "file_extension": ".py",
   "mimetype": "text/x-python",
   "name": "python",
   "nbconvert_exporter": "python",
   "pygments_lexer": "ipython3",
   "version": "3.11.7"
  }
 },
 "nbformat": 4,
 "nbformat_minor": 5
}
