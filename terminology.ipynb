{
 "cells": [
  {
   "cell_type": "markdown",
   "id": "da4b44eb-28fa-4fb2-9731-72e84b87b3b3",
   "metadata": {},
   "source": [
    "# 機械学習とAmazon SageMakerで使用になっている用語説明書"
   ]
  },
  {
   "cell_type": "markdown",
   "id": "84ddf6a1-248b-4306-b14d-7e9272ee2402",
   "metadata": {
    "tags": []
   },
   "source": [
    "## 機械学習基本"
   ]
  },
  {
   "cell_type": "code",
   "execution_count": null,
   "id": "cfbdacd6-4430-41be-b31e-8fc586b2cc27",
   "metadata": {},
   "outputs": [],
   "source": [
    "機械学習に基本的によく使われている概念や用語が説明されています。"
   ]
  },
  {
   "cell_type": "markdown",
   "id": "44b3b6cc-6712-487e-bde6-d989131fb0c8",
   "metadata": {},
   "source": [
    "### Test heading"
   ]
  },
  {
   "cell_type": "markdown",
   "id": "310f5d11-401f-4d6e-8144-c364ce912dc5",
   "metadata": {},
   "source": [
    "## AWSについて"
   ]
  },
  {
   "cell_type": "markdown",
   "id": "4db6d8b7-e9b6-433b-b408-5ec9c90f20ac",
   "metadata": {},
   "source": [
    "## SageMakerについて"
   ]
  },
  {
   "cell_type": "code",
   "execution_count": null,
   "id": "23e0ed9b-4d3c-4390-8bb5-699976f35900",
   "metadata": {},
   "outputs": [],
   "source": []
  }
 ],
 "metadata": {
  "kernelspec": {
   "display_name": "default:Python",
   "language": "python",
   "name": "conda-env-default-py"
  },
  "language_info": {
   "codemirror_mode": {
    "name": "ipython",
    "version": 3
   },
   "file_extension": ".py",
   "mimetype": "text/x-python",
   "name": "python",
   "nbconvert_exporter": "python",
   "pygments_lexer": "ipython3",
   "version": "3.9.19"
  }
 },
 "nbformat": 4,
 "nbformat_minor": 5
}
