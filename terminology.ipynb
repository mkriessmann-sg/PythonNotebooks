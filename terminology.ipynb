{
 "cells": [
  {
   "cell_type": "markdown",
   "id": "da4b44eb-28fa-4fb2-9731-72e84b87b3b3",
   "metadata": {},
   "source": [
    "## "
   ]
  },
  {
   "cell_type": "markdown",
   "id": "84ddf6a1-248b-4306-b14d-7e9272ee2402",
   "metadata": {},
   "source": [
    "## "
   ]
  },
  {
   "cell_type": "code",
   "execution_count": 2,
   "id": "c77abce4-c4e0-499e-b22e-f51765c5482c",
   "metadata": {},
   "outputs": [
    {
     "name": "stdout",
     "output_type": "stream",
     "text": [
      "[1, 2, 3, 4]\n"
     ]
    }
   ],
   "source": [
    "list = [1,2]\n",
    "list2 = [3,4]\n",
    "list3 = list + list2\n",
    "print(list3)"
   ]
  },
  {
   "cell_type": "code",
   "execution_count": 9,
   "id": "e7393770-dc97-4dcb-82af-e7334d3848d1",
   "metadata": {},
   "outputs": [
    {
     "name": "stdout",
     "output_type": "stream",
     "text": [
      "[[25 27 29]\n",
      " [44 46 48]\n",
      " [65 67 69]\n",
      " [85 87 89]]\n"
     ]
    }
   ],
   "source": [
    "matrix1 = np.array([[11,12,13],[21,22,23],[31,32,33],[41,42,43]])\n",
    "matrix2 = np.array([[14,15,16],[23,24,25],[34,35,36],[44,45,46]])\n",
    "matrix3  = matrix1 + matrix2 \n",
    "print(matrix3)\n"
   ]
  },
  {
   "cell_type": "code",
   "execution_count": 5,
   "id": "43721256-9cb6-4384-b8b4-bb683cbaa38b",
   "metadata": {},
   "outputs": [
    {
     "name": "stdout",
     "output_type": "stream",
     "text": [
      "[[11, 12, 13], [21, 22, 23], [31, 32, 33], [14, 15, 16], [23, 24, 25], [34, 35, 36]]\n"
     ]
    }
   ],
   "source": [
    "print(matrix3)"
   ]
  },
  {
   "cell_type": "code",
   "execution_count": null,
   "id": "8dc1bf39-23d4-46cf-a54e-e6690109a38d",
   "metadata": {},
   "outputs": [],
   "source": []
  }
 ],
 "metadata": {
  "kernelspec": {
   "display_name": "Python 3 (ipykernel)",
   "language": "python",
   "name": "python3"
  },
  "language_info": {
   "codemirror_mode": {
    "name": "ipython",
    "version": 3
   },
   "file_extension": ".py",
   "mimetype": "text/x-python",
   "name": "python",
   "nbconvert_exporter": "python",
   "pygments_lexer": "ipython3",
   "version": "3.11.7"
  }
 },
 "nbformat": 4,
 "nbformat_minor": 5
}
