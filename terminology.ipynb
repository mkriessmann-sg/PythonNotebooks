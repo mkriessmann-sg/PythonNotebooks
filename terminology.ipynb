{
 "cells": [
  {
   "cell_type": "markdown",
   "id": "da4b44eb-28fa-4fb2-9731-72e84b87b3b3",
   "metadata": {},
   "source": [
    "# 機械学習とAmazon SageMakerで使用になっている用語説明書"
   ]
  },
  {
   "cell_type": "markdown",
   "id": "84ddf6a1-248b-4306-b14d-7e9272ee2402",
   "metadata": {
    "tags": []
   },
   "source": [
    "## 機械学習基本"
   ]
  },
  {
   "cell_type": "markdown",
   "id": "19b497e3-722a-4f7f-ae76-273a44e6503c",
   "metadata": {},
   "source": [
    "機械学習に基本的によく使われている概念や用語が説明されています。"
   ]
  },
  {
   "cell_type": "markdown",
   "id": "31a46747-f1e7-4948-9931-c959e569a4a2",
   "metadata": {},
   "source": [
    "### 人工知能（英：artificial intelligence) \n",
    "[source](http://jmc.stanford.edu/artificial-intelligence/what-is-ai/index.html)\n",
    "\n",
    "Artificial intelligence is the science of making intelligent machines, especially intelligent computer programms. Intelligence in this context describes the ability to achieve goals in the world. While there is no strict definition, it usually involves the steps of learning, preception, reasoning,problem solving and language understanding.\n",
    "\n",
    "人工知能は知能を持っている機械やプログラムを制作する科学分野です。こちらの場合には「知能」は目標を達成できるという意味を込まれています。はっきりしていませんですが、よくある段階は学習、認識、論法、問題解決と言語理解が含まれています。"
   ]
  },
  {
   "cell_type": "markdown",
   "id": "44b3b6cc-6712-487e-bde6-d989131fb0c8",
   "metadata": {},
   "source": [
    "### 機械学習（英：Machine Learning)\n",
    "\n",
    "Machine learning is a subset of artificial intelligence that concerned with the development and study of statistical algorythms that can learn from data, generalize to to unseen data and perform indepent tasks. It usually involves algorythms that can process and analyze data to improve their performance over time through experience. \n",
    "\n",
    "機械学習は人工知能の一部で、統計的アルゴリズムを研究する分野です。そのアルゴリズムは学習し、未見から拝察し、自立的にタスクを行えます。大体の場合にはそのアルゴリズムはデータを分析し、経験を積みパフォーマンスを上昇するができます。\n"
   ]
  },
  {
   "cell_type": "markdown",
   "id": "fb1adb96-c40e-4806-aa6e-19e8d921d33b",
   "metadata": {},
   "source": [
    "### 分類　（英：Classification）\n",
    "\n",
    "A task in machine learning where the goal of the algorythm is to categorize input data into predefined classes or labels based on it's features. It falls under the portion of supervised learning. \n",
    "It is important to note that for most classifications, rather than the class being predicted 100%, the algorythm predicts a likeliness of the provided data representing the class in question. For multi class classifications there are multiple probablilities and the one with the highest probalibity wins out and becomes　the prediction.\n",
    "\n",
    "機械学習おけるタスクで、入力されているデータを、特徴量を基にして、定義済みのクラスやラベルに分析する目的にして、アルゴリズムを開発することです。教師あり学習の範囲に入ります。\n",
    "\n",
    "分析に関して重要な点は、クラスを確実確定するより、各クラスである確率が計算し、一番確率が高いクラスが予測となります。\n"
   ]
  },
  {
   "cell_type": "markdown",
   "id": "d2cec64e-c65e-4bae-8ad2-7edd24bbaaa0",
   "metadata": {},
   "source": [
    "### 回帰（英：Regression）\n",
    "\n",
    "A task in machine learning where the goal of the algorythm is to predict a continious numeric value based on input data. It falls under the portion of supervised learnig. \n",
    "\n",
    "機械学習におけるタスクで、アルゴリズムの目標が入力データに基づいて連続的な数値を予測することです。教師あり学習の範囲に入ります。"
   ]
  },
  {
   "cell_type": "markdown",
   "id": "e56dc19c-ef5a-47fa-bb6e-4b460154f249",
   "metadata": {},
   "source": [
    "### 特徴量 (英:Features)\n",
    "\n",
    "A feature describes an individual measurable property or a correlated number of properties of the data used to build a model. Features are input variables or attributes that the algorithm uses to make predictions or classifications. There are several types of features, such as continuous values, categorical labels, text or images. \n",
    "\n",
    "特徴量は、モデルを基づいたデータ測定可能な項目です。特徴量は、アルゴリズムが予測や分類を行うために使用する入力データのことです。特徴量には、連続値、カテゴリラベル、テキスト、画像など、いくつかの種類があります。"
   ]
  },
  {
   "cell_type": "markdown",
   "id": "6921f4d5-a954-4a51-ad09-db69895504c6",
   "metadata": {},
   "source": [
    "### 学習データ (Training Data)\n",
    "\n",
    "describes the data that is used for creating the model. \n",
    "モデル制作のために使われているデータです。"
   ]
  },
  {
   "cell_type": "markdown",
   "id": "c97e92f0-54a7-4c4c-bbc5-57639be3782b",
   "metadata": {},
   "source": [
    "### 検証/テストデータ　（英：Validation/Testing Data）\n",
    "\n",
    "describes the data that is used to evaluate the model to make sure that it performs to expectation.\n",
    "モデルが期待通りに機能するかを評価するために使用されるデータを指します。"
   ]
  },
  {
   "cell_type": "markdown",
   "id": "bc0acbad-4b4d-467b-a4d9-92e22ec47545",
   "metadata": {},
   "source": [
    "### バイアス（英：Bias）\n",
    "\n",
    "Describes the inability of the machine learning method to completely model the realationship between input data and output, aka the modeling error.\n",
    "入力データと出力の関係を完全にモデル化できない機械学習手法の欠点、つまりモデリングエラーを指します。\n"
   ]
  },
  {
   "cell_type": "markdown",
   "id": "acedfdef-a61b-4bbd-9e1a-2be1552fbb06",
   "metadata": {},
   "source": [
    "### バイアス（英：Variance）\n",
    "\n",
    "describes the average error when predicticting the for values. \n",
    "値を予測する際の平均誤差を指します。"
   ]
  },
  {
   "cell_type": "markdown",
   "id": "b7c11f45-ad4c-4dba-8a4a-1fc3f55de805",
   "metadata": {},
   "source": [
    "### 過学習（英：Overfitting）\n",
    "\n",
    "\n",
    "describes a model that models the testing set too well and therefore has trouble making predictions that refer to a more general case.\n",
    "テストデータをにモデル化しすぎてしまい、より一般的なケースに対する予測が難しくなることを指します。"
   ]
  },
  {
   "cell_type": "markdown",
   "id": "07ea6282",
   "metadata": {},
   "source": [
    "### クロスバリデーション（英：Cross Validation）\n",
    "\n",
    "Cross validation describes a process artificially expanding the training set by rotating training and testing sets. \n",
    "When working with a limited amount of data, often times it can be very important to include all of the sampled data in the training set. However, doing this would not allow you to leave any data for testing and if testing was performed on trained data sets, it would taint the testing set. But small data sets also have the disadvantage of having outliers influence the result significantly. This is where cross valiadation comes into play. \n",
    "\n",
    "Here the sets are split into even blocks, usually 5 or 10, and one of those sets is designated the testing set. \n",
    "Then a model is trained using using the training data, and tested using the testing data, as well as assiged an accuaracy.\n",
    "Following this, another model is trained by using a different data block as the testing data. The process is repeated until all of the blocks have served as the testing data once. Then the performance of the models will be averaged and provide an output as the average performance. \n",
    "Since the data can be split into k number of parts, it is also called k-fold cross valiadation. \n",
    "\n",
    "クロスバリデーションは、トレーニングセットとテストセットを回転させることでトレーニングセットを人工的に拡張するプロセスを指します。限られたデータ量で作業する場合、サンプルデータ全てをトレーニングセットに含めることが非常に重要になることが多いです。しかし、これを行うとテスト用のデータがなくなり、トレーニングデータセットでテストを行うとテストセットが汚染されてしまいます。また、小規模なデータセットは外れ値が結果に大きな影響を与えるという問題もあります。ここでクロスバリデーションが役立ちます。\n",
    "\n",
    "この方法では、データセットを均等なブロックに分割し、通常は5または10に分け、そのうちの1つをテストセットとして指定します。次に、トレーニングデータを使用してモデルをトレーニングし、テストデータを使用してテストを行い、精度を評価します。その後、別のデータブロックをテストデータとして使用して別のモデルをトレーニングします。このプロセスをすべてのブロックが一度はテストデータとして使用されるまで繰り返します。その後、各モデルの性能を平均して、平均性能としての出力を提供します。このデータをk個の部分に分割できるため、k分割クロスバリデーションとも呼ばれます。\n",
    "\n",
    "![image.png](attachment:85ac6d38-0ca8-492f-9572-347640bd4139.png)"
   ]
  },
  {
   "cell_type": "markdown",
   "id": "f517a210-ec52-4ee4-9c31-a3e7dc9ee5e9",
   "metadata": {},
   "source": [
    "### Regularization\n",
    "\n"
   ]
  },
  {
   "cell_type": "markdown",
   "id": "472a9904-bb02-45dd-ac1c-8cbfb056d50e",
   "metadata": {},
   "source": [
    "### Boosting\n"
   ]
  },
  {
   "cell_type": "markdown",
   "id": "b3957cba-70d7-44fd-8a0c-19d060b7d5f2",
   "metadata": {},
   "source": [
    "### Bagging\n"
   ]
  },
  {
   "cell_type": "markdown",
   "id": "eeb5fadd",
   "metadata": {},
   "source": [
    "### ロジスティック回帰（英：Logistic Regression）"
   ]
  },
  {
   "cell_type": "markdown",
   "id": "6356006a",
   "metadata": {},
   "source": [
    "### k近傍法（英：K-Nearest Neighbours）"
   ]
  },
  {
   "cell_type": "markdown",
   "id": "842fa4c8",
   "metadata": {},
   "source": [
    "### 混同行列（英：Confusion Matrix）\n",
    "\n",
    "A matrix that seperates all of the possible cases into 4 different classes: True positives, true negatives, false postivives and false negatives. The dimensions of the confusion matrix are determined by the number of features and possible clasifications the algorythm can predict. In summary, the confusion matrix tells you what the algorythm did right, and what it did wrong. \n",
    "\n",
    "4つの可能なケースに分ける行列です。可能ケースは、真陽性 (TP)、真陰性 (TN)、偽陰性 (FN)、偽陰性 (FN)。行列に次元はアルゴリズムが予測できる特徴量と分類の可能性の数によって決定される。つまりは、混同行列はアルゴリズムの正解と違うところが教えてくれます。\n"
   ]
  },
  {
   "cell_type": "markdown",
   "id": "61c1e061",
   "metadata": {},
   "source": [
    "### 感度と特異度（英：Sensitivity and Specificity）\n",
    "\n",
    " Sensitivity represents the true positives divided by the sum of true positives and false negatives.\n",
    "It tells us how many actually positive cases were correctly identified. \n",
    "\n",
    " Specificity represents the true negatives divided by the sum of true negatives and false positives.\n",
    " It tells us how many cases that do not apply were correctly identified. \n",
    "\n",
    " Whether you wan to optimise for sensitivity or specificity depends on whether you would like to determine the positive case more accurately or negative case more accurately. \n",
    "\n",
    " For matrices beyond n2, there is a specificity and sensitivity for each category. \n"
   ]
  },
  {
   "cell_type": "markdown",
   "id": "34aa63f8",
   "metadata": {},
   "source": [
    "### （英：）\n",
    "\n"
   ]
  },
  {
   "cell_type": "markdown",
   "id": "111fe669",
   "metadata": {},
   "source": [
    "### （英：）\n",
    "\n"
   ]
  },
  {
   "cell_type": "markdown",
   "id": "d69a9194",
   "metadata": {},
   "source": [
    "### （英：）\n",
    "\n"
   ]
  },
  {
   "cell_type": "markdown",
   "id": "e5d73fc1",
   "metadata": {},
   "source": [
    "### （英：）\n",
    "\n"
   ]
  },
  {
   "cell_type": "markdown",
   "id": "b493acd8",
   "metadata": {},
   "source": [
    "### （英：）\n",
    "\n"
   ]
  },
  {
   "cell_type": "markdown",
   "id": "f38a9755",
   "metadata": {},
   "source": [
    "### （英：）\n",
    "\n"
   ]
  },
  {
   "cell_type": "markdown",
   "id": "310f5d11-401f-4d6e-8144-c364ce912dc5",
   "metadata": {},
   "source": [
    "## AWSについて"
   ]
  },
  {
   "cell_type": "markdown",
   "id": "4db6d8b7-e9b6-433b-b408-5ec9c90f20ac",
   "metadata": {},
   "source": [
    "## SageMakerについて"
   ]
  },
  {
   "cell_type": "code",
   "execution_count": null,
   "id": "23e0ed9b-4d3c-4390-8bb5-699976f35900",
   "metadata": {},
   "outputs": [],
   "source": []
  }
 ],
 "metadata": {
  "kernelspec": {
   "display_name": "Python 3 (ipykernel)",
   "language": "python",
   "name": "python3"
  },
  "language_info": {
   "codemirror_mode": {
    "name": "ipython",
    "version": 3
   },
   "file_extension": ".py",
   "mimetype": "text/x-python",
   "name": "python",
   "nbconvert_exporter": "python",
   "pygments_lexer": "ipython3",
   "version": "3.11.7"
  }
 },
 "nbformat": 4,
 "nbformat_minor": 5
}
