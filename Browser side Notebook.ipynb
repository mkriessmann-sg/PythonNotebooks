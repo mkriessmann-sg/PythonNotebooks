{
 "cells": [
  {
   "cell_type": "markdown",
   "id": "0f203d58-8b23-48b8-a6ce-9035f72daaf4",
   "metadata": {},
   "source": [
    "# ブラウザから製作されているサンプルノートブック\n",
    "\n",
    "AnancondaとGoogle Chromeで製作されているノートブックです。\n",
    "\n",
    "様々な機能を試して、役立ちそうなのものを試すところです。"
   ]
  },
  {
   "cell_type": "markdown",
   "id": "39bbba69-a3d9-448e-8567-6f414f72c9cf",
   "metadata": {},
   "source": [
    "## 簡単なpythonコード"
   ]
  },
  {
   "cell_type": "code",
   "execution_count": 4,
   "id": "13523e28-440e-4fc4-8fd3-a31822c384d9",
   "metadata": {},
   "outputs": [
    {
     "name": "stdout",
     "output_type": "stream",
     "text": [
      "hello world!\n"
     ]
    }
   ],
   "source": [
    "print(\"hello world!\")"
   ]
  },
  {
   "cell_type": "code",
   "execution_count": 8,
   "id": "012ad051-e308-4cd8-9541-cbcfd9fc1169",
   "metadata": {},
   "outputs": [
    {
     "name": "stdout",
     "output_type": "stream",
     "text": [
      "おはよう世界！\n"
     ]
    }
   ],
   "source": [
    "print(\"おはよう世界！\")"
   ]
  },
  {
   "cell_type": "markdown",
   "id": "899523bd-67ab-43ab-8b32-7c7b83ac68ab",
   "metadata": {},
   "source": [
    "コードを書く時に必要な特殊文字は必ず英文字にするように。同じと見えても、修正する必要があります。なるべく日本語をコード内使わないように必要がです。\n",
    "例えば「（」と「(」は"
   ]
  },
  {
   "cell_type": "code",
   "execution_count": null,
   "id": "5024bed7-daf2-4454-ac5f-127123dd203c",
   "metadata": {},
   "outputs": [],
   "source": []
  }
 ],
 "metadata": {
  "kernelspec": {
   "display_name": "Python 3 (ipykernel)",
   "language": "python",
   "name": "python3"
  },
  "language_info": {
   "codemirror_mode": {
    "name": "ipython",
    "version": 3
   },
   "file_extension": ".py",
   "mimetype": "text/x-python",
   "name": "python",
   "nbconvert_exporter": "python",
   "pygments_lexer": "ipython3",
   "version": "3.11.7"
  }
 },
 "nbformat": 4,
 "nbformat_minor": 5
}
