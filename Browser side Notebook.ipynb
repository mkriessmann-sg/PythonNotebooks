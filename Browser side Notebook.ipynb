{
 "cells": [
  {
   "cell_type": "markdown",
   "id": "0f203d58-8b23-48b8-a6ce-9035f72daaf4",
   "metadata": {},
   "source": [
    "# ブラウザから製作されているサンプルノートブック\n",
    "\n",
    "AnancondaとGoogle Chromeで製作されているノートブックです。\n",
    "\n",
    "様々な機能を試して、役立ちそうなのものを試すところです。"
   ]
  },
  {
   "cell_type": "markdown",
   "id": "39bbba69-a3d9-448e-8567-6f414f72c9cf",
   "metadata": {},
   "source": [
    "## 簡単なpythonコード"
   ]
  },
  {
   "cell_type": "code",
   "execution_count": 4,
   "id": "13523e28-440e-4fc4-8fd3-a31822c384d9",
   "metadata": {},
   "outputs": [
    {
     "name": "stdout",
     "output_type": "stream",
     "text": [
      "hello world!\n"
     ]
    }
   ],
   "source": [
    "print(\"hello world!\")"
   ]
  },
  {
   "cell_type": "code",
   "execution_count": 8,
   "id": "012ad051-e308-4cd8-9541-cbcfd9fc1169",
   "metadata": {},
   "outputs": [
    {
     "name": "stdout",
     "output_type": "stream",
     "text": [
      "おはよう世界！\n"
     ]
    }
   ],
   "source": [
    "print(\"おはよう世界！\")"
   ]
  },
  {
   "cell_type": "markdown",
   "id": "899523bd-67ab-43ab-8b32-7c7b83ac68ab",
   "metadata": {},
   "source": [
    "コードを書く時に必要な特殊文字は必ず英文字にするように。同じと見えても、修正する必要があります。なるべく日本語をコード内使わないように必要がです。\n",
    "例えば「（」と「(」は実質的同じだとしても、ウニコードが異なりますので、エラーが発生してしまいます。"
   ]
  },
  {
   "cell_type": "markdown",
   "id": "59dc9111-0aff-40b3-8376-fb5aa2f850c2",
   "metadata": {},
   "source": [
    "##　モジュールインポートテスト\n",
    "VSCodeで製作されているモジュールをインポートし、コードで実行する。"
   ]
  },
  {
   "cell_type": "code",
   "execution_count": 11,
   "id": "176d23b9-6b84-44d7-a096-9f6933f560fb",
   "metadata": {},
   "outputs": [
    {
     "name": "stdout",
     "output_type": "stream",
     "text": [
      "7\n"
     ]
    }
   ],
   "source": [
    "import TestModule\n",
    "\n",
    "result = TestModule.Add(5,2)\n",
    "print(result)"
   ]
  },
  {
   "cell_type": "markdown",
   "id": "3bfcdad2-045c-4236-be4c-e9c0183d2513",
   "metadata": {},
   "source": [
    "先ずはモジュールをインポートし、モジュールの関数を実行するために.operatorでモジュールをアクセス、実行する。"
   ]
  },
  {
   "cell_type": "markdown",
   "id": "0fe6a68b-60ba-45d3-a906-b7bf395090f3",
   "metadata": {},
   "source": [
    "## HTMLの使い方\n",
    "\n",
    "Markdown内ではHTMLとCSSも使用可能です。インラインスタイルを作って、テキストの修飾が可能になります。\n",
    "\n",
    "<h2 Style =\"font-size: 3rem; color:red;\" >HTML heading </h2>"
   ]
  },
  {
   "cell_type": "code",
   "execution_count": 12,
   "id": "f92210b3-03ea-442b-85bf-1698d50633d6",
   "metadata": {},
   "outputs": [],
   "source": [
    "#<h2 Style =\"font-size: 3rem; color:red;\" >HTML heading </h2>"
   ]
  },
  {
   "cell_type": "code",
   "execution_count": null,
   "id": "ca65c7d9-1f3e-4c54-980f-86162028ba33",
   "metadata": {},
   "outputs": [],
   "source": [
    "必要性が低いですけれど、念のためにCSSのスタイルを復習するを推進します。"
   ]
  },
  {
   "cell_type": "markdown",
   "id": "9c2d6b90-65b5-4e7a-b97d-a0c41bd16d43",
   "metadata": {},
   "source": [
    "## ノートブックを製作する\n",
    "\n",
    "「新しいノートブックを製作する」を押下すると、自動的にrootで新しいノートブックが製作されています。ファイル管理が難しくなる可能性がありますので、なるべくjupyter explorerからノートブックを製作するように。\n"
   ]
  },
  {
   "cell_type": "code",
   "execution_count": null,
   "id": "0b5d3487-b13c-4950-98a6-3233b84c4e04",
   "metadata": {},
   "outputs": [],
   "source": []
  }
 ],
 "metadata": {
  "kernelspec": {
   "display_name": "default:Python",
   "language": "python",
   "name": "conda-env-default-py"
  },
  "language_info": {
   "codemirror_mode": {
    "name": "ipython",
    "version": 3
   },
   "file_extension": ".py",
   "mimetype": "text/x-python",
   "name": "python",
   "nbconvert_exporter": "python",
   "pygments_lexer": "ipython3",
   "version": "3.9.19"
  }
 },
 "nbformat": 4,
 "nbformat_minor": 5
}
