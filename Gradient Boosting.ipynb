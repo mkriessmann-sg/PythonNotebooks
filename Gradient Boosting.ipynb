{
 "cells": [
  {
   "cell_type": "markdown",
   "id": "b47b455c-b653-4576-9d90-1e372f9fb473",
   "metadata": {
    "editable": true,
    "slideshow": {
     "slide_type": ""
    },
    "tags": []
   },
   "source": [
    "# Gradient Boosting sample code\n",
    "\n",
    "copy of gradient boosting [sample code](https://qiita.com/predora005/items/19aebcf3aa05946c7cf4)"
   ]
  },
  {
   "cell_type": "markdown",
   "id": "e32933da-3f84-4a21-9847-9d80c21424ec",
   "metadata": {
    "jp-MarkdownHeadingCollapsed": true
   },
   "source": [
    "## How to use XGBoost: multi class classification using iris data\n",
    "\n",
    "XGBoost is a library using a type of decision tree algorythm, the GBDT(Gradient boosted decision tree).\n",
    "This is a guide on the installation and use of said library. \n",
    "While multiple programming languages can be used, this guide will show the use with Python."
   ]
  },
  {
   "cell_type": "markdown",
   "id": "30a57734-0ac7-4ff8-abda-343fdd6ea0e9",
   "metadata": {},
   "source": [
    "## What is GBDT\n",
    "- a type of decision tree model\n",
    "- a gradient boosted desicion tree\n",
    "\n",
    "Another famous decision tree model is the random forest, which is summarized in the article below.\n",
    "https://qiita.com/_tsuru/items/23fdc43ee0e54ec7c87e"
   ]
  },
  {
   "cell_type": "markdown",
   "id": "e44ad3b8-d84a-4e08-98eb-54fb4459ae5d",
   "metadata": {},
   "source": [
    "## The hallmarks of GBDT\n",
    "- easily achievable accuracy\n",
    "- can use loss function values\n",
    "- can handle numeric data\n",
    "\n",
    "Since it has a easily achievable accuracy, it's popular in the machine learning competition Kaggle."
   ]
  },
  {
   "cell_type": "markdown",
   "id": "f108b143-b3c8-435b-8a55-7b6872e0e0ab",
   "metadata": {},
   "source": [
    "## [1] How to use\n",
    "\n",
    "We will be using the iris data set from scikit-learn. The OS used is Amazon Linux2."
   ]
  },
  {
   "cell_type": "markdown",
   "id": "68072f6f-cf55-4d9a-bb0c-cc6eccce9819",
   "metadata": {},
   "source": [
    "## [1-1] Installation\n",
    "\n",
    "In Amazon Linux2 the installation is as follows. A guide on the installation can be found on the official website.\n",
    "https://xgboost.readthedocs.io/en/latest/build.html\n",
    "\n",
    "Comment:\n",
    "type `pip3 install xgboost` into the responsible CLI.\n"
   ]
  },
  {
   "cell_type": "markdown",
   "id": "d4c60612-a174-487f-8576-062d5b3b4af6",
   "metadata": {},
   "source": [
    "## [1-2] Import"
   ]
  },
  {
   "cell_type": "code",
   "execution_count": 120,
   "id": "41d12f53-02f8-4398-8a2a-ed2f633facc8",
   "metadata": {},
   "outputs": [],
   "source": [
    "import xgboost as xgb"
   ]
  },
  {
   "cell_type": "markdown",
   "id": "a19ab38d-2dc1-44e2-a1e9-9dd2461b8a91",
   "metadata": {},
   "source": [
    "## [1-3] Retrieve the Iris data\n",
    "\n",
    "There are no particularities to this process. You retrieve the Iris data and create a pandas DataFrame and a Series.\n",
    "\n",
    "\n",
    "Comment:\n",
    "iris data represents the input variables, meaning the features the flower has to be able to be classified. \n",
    "iris target represents the output variables, meaning what kind of flower it is, encoded as integer. \n",
    "Basically, data is the question, target is the answer"
   ]
  },
  {
   "cell_type": "code",
   "execution_count": 121,
   "id": "2711a821-da2d-405b-8738-2231926b8a36",
   "metadata": {},
   "outputs": [],
   "source": [
    "import pandas as pd\n",
    "from sklearn.datasets import load_iris\n",
    "\n",
    "iris = load_iris()\n",
    "\n",
    "iris_data = pd.DataFrame(iris.data, columns = iris.feature_names)\n",
    "iris_target = pd.Series(iris.target)"
   ]
  },
  {
   "cell_type": "markdown",
   "id": "28676187-f220-49f0-89e7-608160607d1f",
   "metadata": {},
   "source": [
    "## [1-4] Create training and testing data sets\n",
    "\n",
    "There are no particularities here either, `train_test_split` from the scikit-learn package is used to split the data into training and testing data sets."
   ]
  },
  {
   "cell_type": "code",
   "execution_count": 122,
   "id": "3d9959c8-196f-433f-b8a9-fc247ed3640e",
   "metadata": {},
   "outputs": [],
   "source": [
    "from sklearn.model_selection import train_test_split\n",
    "\n",
    "train_x, test_x, train_y, test_y = train_test_split(iris_data, iris_target, test_size = 0.2, shuffle = True)"
   ]
  },
  {
   "cell_type": "markdown",
   "id": "9e8e9310-7d41-4948-a0b5-b48e04fd0473",
   "metadata": {},
   "source": [
    "## [1-5] Convert the data into an XGBoost data type\n",
    "\n",
    "XGBoost uses `DMatrix` data types. \n",
    "\n",
    "`DMatrix` is made up of numpy `ndarray` and pandas `DataFrame` data types, which should not pose a problem.\n",
    "\n",
    "Details on what type of data can be used can be found in the official documentation below.\n",
    "https://xgboost.readthedocs.io/en/latest/python/python_intro.html#data-interface"
   ]
  },
  {
   "cell_type": "code",
   "execution_count": 123,
   "id": "23e8a332-d4cb-4399-b921-e8e9cddace4c",
   "metadata": {},
   "outputs": [],
   "source": [
    "dtrain = xgb.DMatrix(train_x, label = train_y)"
   ]
  },
  {
   "cell_type": "markdown",
   "id": "d1ea1d55-8d7a-445a-a854-83c738933129",
   "metadata": {},
   "source": [
    "## [1-6] Set Parameters\n",
    "\n",
    "Set each specific parameter. "
   ]
  },
  {
   "cell_type": "code",
   "execution_count": 124,
   "id": "17477654-9053-4653-a166-b99208a97a5d",
   "metadata": {},
   "outputs": [],
   "source": [
    "param = {'max_depth' : 2, 'eta' : 1, 'objective': 'multi:softmax', 'num_class': 3}"
   ]
  },
  {
   "cell_type": "markdown",
   "id": "1746d3a2-e207-4562-9cd1-4a3affa460f1",
   "metadata": {},
   "source": [
    "The meaning of each parameter is as follows:\n",
    "- max_depth = how many trees will be made at a maximum\n",
    "- eta = learning rate, conrols the step size at each iteration. small nummber prevents overfitting, but requires more boosting rounds\n",
    "- objective = specifies the learning task and the corresponding learning objective\n",
    "- num_class = the number of classes\n",
    "\n",
    "The learning objective described here is \"multi:softmax.\" To learn more about this, check the official documentation.\n",
    "https://xgboost.readthedocs.io/en/latest/parameter.html"
   ]
  },
  {
   "cell_type": "markdown",
   "id": "8fc09029-9544-4f50-afb2-7d4023282ccf",
   "metadata": {},
   "source": [
    "## [1-7] Training\n",
    "\n",
    "`num_round` represents the number of training rounds."
   ]
  },
  {
   "cell_type": "code",
   "execution_count": 125,
   "id": "7b15e1c1-96c8-4e08-aafd-6d8ba7cb8967",
   "metadata": {},
   "outputs": [],
   "source": [
    "num_round = 10\n",
    "bst = xgb.train(param,dtrain, num_round)"
   ]
  },
  {
   "cell_type": "markdown",
   "id": "07445f87-289a-40fd-a054-e1a9af86e286",
   "metadata": {},
   "source": [
    "## [1-8] Prediction"
   ]
  },
  {
   "cell_type": "code",
   "execution_count": 126,
   "id": "545780d7-b239-46d9-8376-98c12746461f",
   "metadata": {},
   "outputs": [],
   "source": [
    "dtest = xgb.DMatrix(test_x)\n",
    "pred = bst.predict(dtest)"
   ]
  },
  {
   "cell_type": "markdown",
   "id": "e3b4f7dd-9d59-4647-92ea-bcbbf2e7589e",
   "metadata": {},
   "source": [
    "## [1-9] Confirming Accuaracy\n",
    "\n",
    "Confirm the accuary with scikit's `accuacy_score`. "
   ]
  },
  {
   "cell_type": "code",
   "execution_count": 127,
   "id": "27a64917-c3f2-4d70-a27e-0ff6b8a5f2c5",
   "metadata": {},
   "outputs": [
    {
     "name": "stdout",
     "output_type": "stream",
     "text": [
      "score:0.9333\n"
     ]
    }
   ],
   "source": [
    "from sklearn.metrics import accuracy_score\n",
    "\n",
    "score = accuracy_score(test_y, pred)\n",
    "print('score:{0:.4f}'.format(score))\n",
    "# 0.9667\n"
   ]
  },
  {
   "cell_type": "markdown",
   "id": "715955e6-63e4-453f-95b3-a1a061080f91",
   "metadata": {},
   "source": [
    "## [1-10] Plot the importance\n",
    "\n",
    "Visualize which features have contributed in what way to the predicted result."
   ]
  },
  {
   "cell_type": "code",
   "execution_count": 128,
   "id": "4f2eb7ff-6e99-4575-883d-a9ae164fbcc8",
   "metadata": {},
   "outputs": [
    {
     "data": {
      "text/plain": [
       "<Axes: title={'center': 'Feature importance'}, xlabel='F score', ylabel='Features'>"
      ]
     },
     "execution_count": 128,
     "metadata": {},
     "output_type": "execute_result"
    },
    {
     "data": {
      "image/png": "[encoded data removed]",
      "text/plain": [
       "<Figure size 640x480 with 1 Axes>"
      ]
     },
     "metadata": {},
     "output_type": "display_data"
    }
   ],
   "source": [
    "xgb.plot_importance(bst)"
   ]
  },
  {
   "cell_type": "markdown",
   "id": "63f2976e-a17b-4f8b-9686-e3745ad647e5",
   "metadata": {},
   "source": [
    "## [2] Validation and early stopping during training \n",
    "\n",
    "Validation and early stopping during the training proccess is easily accomplished by utilizing the validation data."
   ]
  },
  {
   "cell_type": "markdown",
   "id": "5c347527-c992-45ba-9fd3-a74db5f6113e",
   "metadata": {},
   "source": [
    "## [2-1] Splitting the data\n",
    "\n",
    "A part of the training data is used for validation."
   ]
  },
  {
   "cell_type": "code",
   "execution_count": 129,
   "id": "99f1069f-ad6a-4acc-938f-4d18484896b6",
   "metadata": {},
   "outputs": [],
   "source": [
    "train_x, valid_x, train_y, valid_y = train_test_split(train_x, train_y, test_size=0.2, shuffle=True)"
   ]
  },
  {
   "cell_type": "markdown",
   "id": "61e2f4b4-db40-47b3-8480-2e816b97f634",
   "metadata": {},
   "source": [
    "## [2-2] Creating the DMatrix"
   ]
  },
  {
   "cell_type": "code",
   "execution_count": 130,
   "id": "978c1753-f435-474c-be17-91531498e2dc",
   "metadata": {},
   "outputs": [],
   "source": [
    "dtrain = xgb.DMatrix(train_x, label=train_y)\n",
    "dvalid = xgb.DMatrix(valid_x, label=valid_y)"
   ]
  },
  {
   "cell_type": "markdown",
   "id": "56303fb1-c7be-457a-9e85-13d115434dfd",
   "metadata": {},
   "source": [
    "## [2-3] Add parameters\n",
    "\n",
    "When using validation, the \"eval_metric\" has to be added to the parameters. \"eval_metric\" defines how the result is evaluated."
   ]
  },
  {
   "cell_type": "code",
   "execution_count": 131,
   "id": "f7fe16a8-5cd0-42bd-9074-9ecb916a6921",
   "metadata": {},
   "outputs": [],
   "source": [
    "param = {'max_depth': 2, 'eta': 0.5, 'objective': 'multi:softmax', 'num_class': 3, 'eval_metric': 'mlogloss'}"
   ]
  },
  {
   "cell_type": "markdown",
   "id": "7b60b5eb-a409-4327-bafd-92531ccf6c0d",
   "metadata": {},
   "source": [
    "## [2-4] Training\n",
    "\n",
    "The data to be observed is defined in \"evallist.\" The label for the validation data is 'eval,'  for the training data 'train.'\n",
    "\n",
    "xgb.train now has the addtional parameter `early_stopping_rounds`. If the evaluation has not changed after 5 rounds, the training proccess will be cancelled an the model output. "
   ]
  },
  {
   "cell_type": "code",
   "execution_count": 132,
   "id": "eb257f84-fd2b-490d-9e9b-2f2ad39cd546",
   "metadata": {},
   "outputs": [],
   "source": [
    "evallist = [(dvalid, 'eval'), (dtrain, 'train')];\n",
    "num_round = 10000;\n",
    "#bst = xgb.train(param, dtrain, num_round, evals = evallist, early_stopping_rounds=5);\n",
    "bst = xgb.XGBClassifier(\n",
    "    objective='multi:softprob',\n",
    "    max_depth=5,\n",
    "    eta=0.2,\n",
    "    gamma=4,\n",
    "    min_child_weight=6,\n",
    "    subsample=0.7,\n",
    "    num_round=10000,\n",
    "    eval_metric='mlogloss'\n",
    ")\n",
    "\n",
    "# [0]   eval-mlogloss:0.61103   train-mlogloss:0.60698\n",
    "# Multiple eval metrics have been passed: 'train-mlogloss' will be used for early stopping.\n",
    "# \n",
    "# Will train until train-mlogloss hasn't improved in 5 rounds.\n",
    "# [1]   eval-mlogloss:0.36291   train-mlogloss:0.35779\n",
    "# [2]   eval-mlogloss:0.22432   train-mlogloss:0.23488\n",
    "# \n",
    "# 〜〜〜 途中省略 〜〜〜\n",
    "# \n",
    "# Stopping. Best iteration:\n",
    "# [1153]    eval-mlogloss:0.00827   train-mlogloss:0.01863\n"
   ]
  },
  {
   "cell_type": "markdown",
   "id": "fb5b675c-5ea2-44f7-95b5-fd002a835338",
   "metadata": {},
   "source": [
    "## [2-5] Confirming the result of the validation"
   ]
  },
  {
   "cell_type": "code",
   "execution_count": 133,
   "id": "bbfda521-e5cf-4939-a401-6a05d79939c2",
   "metadata": {},
   "outputs": [
    {
     "ename": "NotFittedError",
     "evalue": "need to call fit or load_model beforehand",
     "output_type": "error",
     "traceback": [
      "\u001b[1;31m---------------------------------------------------------------------------\u001b[0m",
      "\u001b[1;31mNotFittedError\u001b[0m                            Traceback (most recent call last)",
      "Cell \u001b[1;32mIn[133], line 3\u001b[0m\n\u001b[0;32m      1\u001b[0m \u001b[38;5;66;03m#print('Best Score:{0:.4f}, Iteration:{1:d}, Ntree_limit:{2:d}'.format(bst.best_score,bst.best_iteration,bst.best_ntree_limit))\u001b[39;00m\n\u001b[0;32m      2\u001b[0m \u001b[38;5;28mprint\u001b[39m(\u001b[38;5;124m'\u001b[39m\u001b[38;5;124mBest Score:\u001b[39m\u001b[38;5;132;01m{0:.4f}\u001b[39;00m\u001b[38;5;124m, Iteratin:\u001b[39m\u001b[38;5;132;01m{1:d}\u001b[39;00m\u001b[38;5;124m, Ntree_Limit:\u001b[39m\u001b[38;5;132;01m{2:d}\u001b[39;00m\u001b[38;5;124m'\u001b[39m\u001b[38;5;241m.\u001b[39mformat(\n\u001b[1;32m----> 3\u001b[0m      bst\u001b[38;5;241m.\u001b[39mbest_score, bst\u001b[38;5;241m.\u001b[39mbest_iteration, bst\u001b[38;5;241m.\u001b[39mbest_ntree_limit))\n",
      "File \u001b[1;32m~\\AppData\\Local\\anaconda3\\Lib\\site-packages\\xgboost\\sklearn.py:1289\u001b[0m, in \u001b[0;36mXGBModel.best_score\u001b[1;34m(self)\u001b[0m\n\u001b[0;32m   1286\u001b[0m \u001b[38;5;129m@property\u001b[39m\n\u001b[0;32m   1287\u001b[0m \u001b[38;5;28;01mdef\u001b[39;00m \u001b[38;5;21mbest_score\u001b[39m(\u001b[38;5;28mself\u001b[39m) \u001b[38;5;241m-\u001b[39m\u001b[38;5;241m>\u001b[39m \u001b[38;5;28mfloat\u001b[39m:\n\u001b[0;32m   1288\u001b[0m \u001b[38;5;250m    \u001b[39m\u001b[38;5;124;03m\"\"\"The best score obtained by early stopping.\"\"\"\u001b[39;00m\n\u001b[1;32m-> 1289\u001b[0m     \u001b[38;5;28;01mreturn\u001b[39;00m \u001b[38;5;28mself\u001b[39m\u001b[38;5;241m.\u001b[39mget_booster()\u001b[38;5;241m.\u001b[39mbest_score\n",
      "File \u001b[1;32m~\\AppData\\Local\\anaconda3\\Lib\\site-packages\\xgboost\\sklearn.py:725\u001b[0m, in \u001b[0;36mXGBModel.get_booster\u001b[1;34m(self)\u001b[0m\n\u001b[0;32m    722\u001b[0m \u001b[38;5;28;01mif\u001b[39;00m \u001b[38;5;129;01mnot\u001b[39;00m \u001b[38;5;28mself\u001b[39m\u001b[38;5;241m.\u001b[39m__sklearn_is_fitted__():\n\u001b[0;32m    723\u001b[0m     \u001b[38;5;28;01mfrom\u001b[39;00m \u001b[38;5;21;01msklearn\u001b[39;00m\u001b[38;5;21;01m.\u001b[39;00m\u001b[38;5;21;01mexceptions\u001b[39;00m \u001b[38;5;28;01mimport\u001b[39;00m NotFittedError\n\u001b[1;32m--> 725\u001b[0m     \u001b[38;5;28;01mraise\u001b[39;00m NotFittedError(\u001b[38;5;124m\"\u001b[39m\u001b[38;5;124mneed to call fit or load_model beforehand\u001b[39m\u001b[38;5;124m\"\u001b[39m)\n\u001b[0;32m    726\u001b[0m \u001b[38;5;28;01mreturn\u001b[39;00m \u001b[38;5;28mself\u001b[39m\u001b[38;5;241m.\u001b[39m_Booster\n",
      "\u001b[1;31mNotFittedError\u001b[0m: need to call fit or load_model beforehand"
     ]
    }
   ],
   "source": [
    "#print('Best Score:{0:.4f}, Iteration:{1:d}, Ntree_limit:{2:d}'.format(bst.best_score,bst.best_iteration,bst.best_ntree_limit))\n",
    "print('Best Score:{0:.4f}, Iteratin:{1:d}, Ntree_Limit:{2:d}'.format(\n",
    "     bst.best_score, bst.best_iteration, bst.best_ntree_limit))\n",
    "# Best Score:0.0186, Iteratin:1153, Ntree_Limit:1154\n"
   ]
  },
  {
   "cell_type": "markdown",
   "id": "a621e233-179b-41eb-86ef-921c35c263f7",
   "metadata": {},
   "source": [
    "## [2-6] Prediction\n",
    "\n",
    "Performing predictions with the model that had the best results out of the validation results."
   ]
  },
  {
   "cell_type": "code",
   "execution_count": null,
   "id": "a0a36b35-6287-469a-b277-3eb9d1d12930",
   "metadata": {},
   "outputs": [],
   "source": [
    "dtest = xgb.DMatrix(test_x)\n",
    "pred = ypred = bst.predict(dtest, ntree_limit = bst.best_ntree_limit)"
   ]
  },
  {
   "cell_type": "markdown",
   "id": "f8cce42e-cff0-47d9-84c2-92dec7b0ce32",
   "metadata": {},
   "source": [
    "## Finally\n",
    "\n",
    "For people with experience in machine learning, using the pandas DataFrame and Series might have seemed easy.\n",
    "\n",
    "This example was about multiple class classification, but can just as well be used for binary classification and regression. This approach can be helpful in many different situations."
   ]
  }
 ],
 "metadata": {
  "kernelspec": {
   "display_name": "Python 3 (ipykernel)",
   "language": "python",
   "name": "python3"
  },
  "language_info": {
   "codemirror_mode": {
    "name": "ipython",
    "version": 3
   },
   "file_extension": ".py",
   "mimetype": "text/x-python",
   "name": "python",
   "nbconvert_exporter": "python",
   "pygments_lexer": "ipython3",
   "version": "3.11.7"
  }
 },
 "nbformat": 4,
 "nbformat_minor": 5
}
