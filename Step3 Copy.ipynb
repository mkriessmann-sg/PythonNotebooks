{
 "cells": [
  {
   "cell_type": "code",
   "execution_count": 5,
   "id": "3e89f52a-be4d-4dc8-bdb7-890ba0fc1d70",
   "metadata": {},
   "outputs": [
    {
     "name": "stdout",
     "output_type": "stream",
     "text": [
      "first input\n",
      "        Age          Workclass  Education-Num       Marital Status  \\\n",
      "0      39.0          State-gov           13.0        Never-married   \n",
      "1      50.0   Self-emp-not-inc           13.0   Married-civ-spouse   \n",
      "2      38.0            Private            9.0             Divorced   \n",
      "3      53.0            Private            7.0   Married-civ-spouse   \n",
      "4      28.0            Private           13.0   Married-civ-spouse   \n",
      "...     ...                ...            ...                  ...   \n",
      "32556  27.0            Private           12.0   Married-civ-spouse   \n",
      "32557  40.0            Private            9.0   Married-civ-spouse   \n",
      "32558  58.0            Private            9.0              Widowed   \n",
      "32559  22.0            Private            9.0        Never-married   \n",
      "32560  52.0       Self-emp-inc            9.0   Married-civ-spouse   \n",
      "\n",
      "               Occupation    Relationship    Race      Sex  Capital Gain  \\\n",
      "0            Adm-clerical   Not-in-family   White     Male        2174.0   \n",
      "1         Exec-managerial         Husband   White     Male           0.0   \n",
      "2       Handlers-cleaners   Not-in-family   White     Male           0.0   \n",
      "3       Handlers-cleaners         Husband   Black     Male           0.0   \n",
      "4          Prof-specialty            Wife   Black   Female           0.0   \n",
      "...                   ...             ...     ...      ...           ...   \n",
      "32556        Tech-support            Wife   White   Female           0.0   \n",
      "32557   Machine-op-inspct         Husband   White     Male           0.0   \n",
      "32558        Adm-clerical       Unmarried   White   Female           0.0   \n",
      "32559        Adm-clerical       Own-child   White     Male           0.0   \n",
      "32560     Exec-managerial            Wife   White   Female       15024.0   \n",
      "\n",
      "       Capital Loss  Hours per week         Country  \n",
      "0               0.0            40.0   United-States  \n",
      "1               0.0            13.0   United-States  \n",
      "2               0.0            40.0   United-States  \n",
      "3               0.0            40.0   United-States  \n",
      "4               0.0            40.0            Cuba  \n",
      "...             ...             ...             ...  \n",
      "32556           0.0            38.0   United-States  \n",
      "32557           0.0            40.0   United-States  \n",
      "32558           0.0            40.0   United-States  \n",
      "32559           0.0            20.0   United-States  \n",
      "32560           0.0            40.0   United-States  \n",
      "\n",
      "[32561 rows x 12 columns]\n",
      "Second input\n",
      "[False False False ... False False  True]\n"
     ]
    }
   ],
   "source": [
    "import shap\n",
    "X, y = shap.datasets.adult()\n",
    "X_display, y_display = shap.datasets.adult(display =True)\n",
    "print(\"first input\")\n",
    "print(X_display)\n",
    "print(\"Second input\")\n",
    "print(y_display) "
   ]
  },
  {
   "cell_type": "code",
   "execution_count": null,
   "id": "6a138b09-746c-4a7f-982b-1eea568876f6",
   "metadata": {},
   "outputs": [],
   "source": []
  },
  {
   "cell_type": "code",
   "execution_count": null,
   "id": "66033bd7-9925-4350-ba4a-67b6179ff94d",
   "metadata": {},
   "outputs": [],
   "source": []
  }
 ],
 "metadata": {
  "kernelspec": {
   "display_name": "Python 3 (ipykernel)",
   "language": "python",
   "name": "python3"
  },
  "language_info": {
   "codemirror_mode": {
    "name": "ipython",
    "version": 3
   },
   "file_extension": ".py",
   "mimetype": "text/x-python",
   "name": "python",
   "nbconvert_exporter": "python",
   "pygments_lexer": "ipython3",
   "version": "3.11.7"
  }
 },
 "nbformat": 4,
 "nbformat_minor": 5
}
