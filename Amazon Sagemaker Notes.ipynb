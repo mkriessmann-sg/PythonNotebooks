{
 "cells": [
  {
   "cell_type": "markdown",
   "id": "0781201e-a5d8-402a-8ba3-11f629da1614",
   "metadata": {
    "editable": true,
    "slideshow": {
     "slide_type": ""
    },
    "tags": []
   },
   "source": [
    "# Amazon SageMaker Notes\n",
    "\n",
    "## Outline\n",
    "\n",
    "\n",
    "Amazon SageMaker is a tool to organize data to efficiently build and train machine learning models.\n",
    "In one word, an IDE for machine learning\n",
    "Takes over the complicated part of managing a machine learning enviroment.\n",
    "Allows you to load data (primarily optimised for AWS products) from databases.\n",
    "Raw data sometimes has to be combined or related into so called \"features\". Creating such features can take a long time, so SageMaker has features to take over or assist in this process.\n",
    "\n"
   ]
  },
  {
   "cell_type": "markdown",
   "id": "369a9e0a-f4d3-4061-9b75-df9cedfb3410",
   "metadata": {},
   "source": [
    "## Creating Notebooks\n",
    "Making notebooks works just like in the browser jupyter instance, with Amazon branding. Git integration exists, optimised for git with amazon branding. \n",
    "Unsure how to actually manage the repositories, has to be learned by doing. \n",
    "\n",
    "Notebook names should be simple but descriptive. \n",
    "Notebooks have an instance type."
   ]
  },
  {
   "cell_type": "markdown",
   "id": "129feb63-c699-4328-9c4e-fda5db7d82c2",
   "metadata": {},
   "source": [
    "## Lifecycle configurations\n",
    "\n",
    "automatic scripts that do things for you in your notebooks, much like frameworks that scaffold projects for you."
   ]
  },
  {
   "cell_type": "markdown",
   "id": "d7aabe4a-06be-4420-8a47-8e88e46f44be",
   "metadata": {},
   "source": [
    "## Volume size\n",
    "\n",
    "Volume size can only ever be increased, not decreased."
   ]
  },
  {
   "cell_type": "markdown",
   "id": "b906cc56-bc53-4df3-a57d-36e27f582181",
   "metadata": {},
   "source": [
    "## Networks Settings\n",
    "\n",
    "Not really understood, needs to be looked at again."
   ]
  },
  {
   "cell_type": "markdown",
   "id": "16360bff-1555-4722-ae1f-93bad558fd56",
   "metadata": {},
   "source": [
    "## Repositorry \n",
    "\n",
    "Saves the notebooks to the selected repositories. Needs lots of complicated settings, can't be explained and need to be learned hands on."
   ]
  },
  {
   "cell_type": "markdown",
   "id": "45e5833f-c110-4987-b43f-7e1c415f2bed",
   "metadata": {
    "editable": true,
    "slideshow": {
     "slide_type": ""
    },
    "tags": []
   },
   "source": [
    "# AWS services\n",
    "\n",
    "## Outline\n",
    "\n",
    "AWS provides a hoist of services that can be used to solve different problems. \n",
    "SageMaker works best when used in conjunction with those services, so in order to be able to stay on top of all the services used."
   ]
  },
  {
   "cell_type": "markdown",
   "id": "cb6550a9-6ec9-4a3f-b9dc-fcd58cc6c267",
   "metadata": {},
   "source": [
    "## S3 Buckets\n",
    "[Official docs](https://docs.aws.amazon.com/AmazonS3/latest/userguide/UsingBucket.html)\n",
    "\n",
    "An Amazon Simple Storage Service (Amazon S3) us an object storage service by AWS. An S3 bucket can store object in Amazon S3.\n",
    "Essentially key value database in the cloud."
   ]
  },
  {
   "cell_type": "markdown",
   "id": "11b64cc5-a88f-4876-a773-c526da8c616c",
   "metadata": {},
   "source": [
    "## About EC2 Instances\n",
    "\n",
    "EC2 Instances are essentially an amazon product that provides cloud computing. \n",
    "Cloud computing is essentially outsourcing your servers and storage to a different company that gives you a part of their capacity, saving you the trouble of setting up and maintaining your own severs.\n",
    "Instance types just describe what kind of instance you want to instantiate to use for your notebook. This affects the processing power, memory and storage space.\n",
    "EC2 stands for Elastic Compute Cloud and are basically flexible versions of cloud computing that automatically adjust to your needs.\n",
    "\n",
    "\n"
   ]
  },
  {
   "cell_type": "markdown",
   "id": "6a487c07-aa0c-416c-856c-5bb5e0439486",
   "metadata": {},
   "source": [
    "## AWS ECR\n",
    "[Official docs](https://docs.aws.amazon.com/AmazonECR/latest/userguide/what-is-ecr.html)\n",
    "\n",
    "Amazon Elastic Container Registry is an AWS manager container registry. Essentially has your containers saved so EC2 Instances can access and run your containers right away. \n",
    "\n"
   ]
  },
  {
   "cell_type": "markdown",
   "id": "71f1942e-15ab-43a6-a3a4-761d236e5326",
   "metadata": {},
   "source": [
    "## EBS Volume\n",
    "[Official docs](https://docs.aws.amazon.com/ebs/latest/userguide/ebs-volumes.html})\n",
    "\n",
    "Amazon EBS volumes are durable block level storage devices that you can attach to your instances. \n"
   ]
  }
 ],
 "metadata": {
  "kernelspec": {
   "display_name": "Python 3 (ipykernel)",
   "language": "python",
   "name": "python3"
  },
  "language_info": {
   "codemirror_mode": {
    "name": "ipython",
    "version": 3
   },
   "file_extension": ".py",
   "mimetype": "text/x-python",
   "name": "python",
   "nbconvert_exporter": "python",
   "pygments_lexer": "ipython3",
   "version": "3.11.7"
  }
 },
 "nbformat": 4,
 "nbformat_minor": 5
}
