{
 "cells": [
  {
   "cell_type": "markdown",
   "id": "0781201e-a5d8-402a-8ba3-11f629da1614",
   "metadata": {
    "editable": true,
    "slideshow": {
     "slide_type": ""
    },
    "tags": []
   },
   "source": [
    "# Amazon SageMaker Notes\n",
    "\n",
    "## Outline\n",
    "\n",
    "\n",
    "Amazon SageMaker is a tool to organize data to efficiently build and train machine learning models.\n",
    "In one word, an IDE for machine learning\n",
    "Takes over the complicated part of managing a machine learning enviroment.\n",
    "Allows you to load data (primarily optimised for AWS products) from databases.\n",
    "Raw data sometimes has to be combined or related into so called \"features\". Creating such features can take a long time, so SageMaker has features to take over or assist in this process.\n",
    "\n"
   ]
  }
 ],
 "metadata": {
  "kernelspec": {
   "display_name": "Python 3 (ipykernel)",
   "language": "python",
   "name": "python3"
  },
  "language_info": {
   "codemirror_mode": {
    "name": "ipython",
    "version": 3
   },
   "file_extension": ".py",
   "mimetype": "text/x-python",
   "name": "python",
   "nbconvert_exporter": "python",
   "pygments_lexer": "ipython3",
   "version": "3.11.7"
  }
 },
 "nbformat": 4,
 "nbformat_minor": 5
}
